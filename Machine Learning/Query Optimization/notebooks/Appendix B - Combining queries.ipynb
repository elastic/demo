{
 "cells": [
  {
   "cell_type": "markdown",
   "metadata": {},
   "source": [
    "# Appendix B: Combining queries\n",
    "\n",
    "In this example, we'll walk through the process of building a more complex query for the MSMARCO Document dataset. This assumes that you are familiar with the other query tuning notebooks. We'll be using the `cross_fields` and `best_fields` queries and the optimal parameters found as the foundation on which we build a more complex query.\n",
    "\n",
    "As with the previous notebook and in accordance with the MSMARCO Document ranking task, we'll continue to use MRR@100 on the `dev` dataset for evaluation and comparison with other approaches."
   ]
  },
  {
   "cell_type": "code",
   "execution_count": 1,
   "metadata": {},
   "outputs": [],
   "source": [
    "%load_ext autoreload\n",
    "%autoreload 2"
   ]
  },
  {
   "cell_type": "code",
   "execution_count": 2,
   "metadata": {},
   "outputs": [],
   "source": [
    "import importlib\n",
    "import os\n",
    "import sys\n",
    "\n",
    "from elasticsearch import Elasticsearch\n",
    "from skopt.plots import plot_objective"
   ]
  },
  {
   "cell_type": "code",
   "execution_count": 27,
   "metadata": {},
   "outputs": [],
   "source": [
    "# project library\n",
    "sys.path.insert(0, os.path.abspath('..'))\n",
    "\n",
    "import qopt\n",
    "importlib.reload(qopt)\n",
    "\n",
    "from qopt.notebooks import evaluate_mrr100_dev, optimize_query_mrr100\n",
    "from qopt.optimize import Config"
   ]
  },
  {
   "cell_type": "code",
   "execution_count": 10,
   "metadata": {},
   "outputs": [],
   "source": [
    "# use a local Elasticsearch or Cloud instance (https://cloud.elastic.co/)\n",
    "# es = Elasticsearch('http://localhost:9200')\n",
    "es = Elasticsearch('http://35.234.93.126:9200')\n",
    "\n",
    "# set the parallelization parameter `max_concurrent_searches` for the Rank Evaluation API calls\n",
    "# max_concurrent_searches = 10\n",
    "max_concurrent_searches = 30\n",
    "\n",
    "index = 'msmarco-document'\n",
    "template_id = 'combined'"
   ]
  },
  {
   "cell_type": "markdown",
   "metadata": {},
   "source": [
    "## Combining `cross_fields` and `best_fields`\n",
    "\n",
    "Based on previous tuning, we have the following optimal parameters for each `multi_match` query type."
   ]
  },
  {
   "cell_type": "code",
   "execution_count": 5,
   "metadata": {},
   "outputs": [],
   "source": [
    "cross_fields_params = {\n",
    "    'operator': 'OR',\n",
    "    'minimum_should_match': 40,\n",
    "    'tie_breaker': 0.25,\n",
    "    'url|boost': 1.8047232930155708,\n",
    "    'title|boost': 10.0,\n",
    "    'body|boost': 6.569708296455422,\n",
    "}\n",
    "\n",
    "best_fields_params = {\n",
    "    'tie_breaker': 0.4295450971050169,\n",
    "    'url|boost': 0.0,\n",
    "    'title|boost': 5.631895782981447,\n",
    "    'body|boost': 7.10619804961409,\n",
    "}"
   ]
  },
  {
   "cell_type": "markdown",
   "metadata": {},
   "source": [
    "We've seen the process to optimize field boosts on two different `multi_match` queries but it would be interesting to see if combining them in some way might actually result in even better MRR@100. Let's give it a shot and find out.\n",
    "\n",
    "Side note: Combining queries where each sub-query is always executed may improve relevance but it will hurt performance and the query times will be quite a lot higher than with a single, simpler query. Keep this in mind when building complex queries for production!"
   ]
  },
  {
   "cell_type": "code",
   "execution_count": 8,
   "metadata": {},
   "outputs": [
    {
     "data": {
      "text/plain": [
       "{'cross_fields|operator': 'OR',\n",
       " 'cross_fields|minimum_should_match': 40,\n",
       " 'cross_fields|tie_breaker': 0.25,\n",
       " 'cross_fields|url|boost': 1.8047232930155708,\n",
       " 'cross_fields|title|boost': 10.0,\n",
       " 'cross_fields|body|boost': 6.569708296455422,\n",
       " 'cross_fields|boost': 1.0,\n",
       " 'best_fields|tie_breaker': 0.4295450971050169,\n",
       " 'best_fields|url|boost': 0.0,\n",
       " 'best_fields|title|boost': 5.631895782981447,\n",
       " 'best_fields|body|boost': 7.10619804961409,\n",
       " 'best_fields|boost': 1.0}"
      ]
     },
     "execution_count": 8,
     "metadata": {},
     "output_type": "execute_result"
    }
   ],
   "source": [
    "def prefix_keys(d, prefix):\n",
    "    return {f'{prefix}{k}': v for k, v in d.items()}\n",
    "\n",
    "# prefix key of each sub-query\n",
    "# add default boosts\n",
    "all_params = {\n",
    "    **prefix_keys(cross_fields_params, 'cross_fields|'),\n",
    "    'cross_fields|boost': 1.0,\n",
    "    **prefix_keys(best_fields_params, 'best_fields|'),\n",
    "    'best_fields|boost': 1.0,\n",
    "}\n",
    "all_params"
   ]
  },
  {
   "cell_type": "markdown",
   "metadata": {},
   "source": [
    "## Baseline evaluation"
   ]
  },
  {
   "cell_type": "code",
   "execution_count": 11,
   "metadata": {},
   "outputs": [
    {
     "name": "stdout",
     "output_type": "stream",
     "text": [
      "Score: 0.3062\n",
      "CPU times: user 1.91 s, sys: 483 ms, total: 2.39 s\n",
      "Wall time: 4min 36s\n"
     ]
    }
   ],
   "source": [
    "%%time\n",
    "\n",
    "_ = evaluate_mrr100_dev(es, max_concurrent_searches, index, template_id, params=all_params)"
   ]
  },
  {
   "cell_type": "markdown",
   "metadata": {},
   "source": [
    "## Query tuning\n",
    "\n",
    "Here we'll just tune the boosts for each sub-query. Note that this takes twice as long as tuning individual queries because we have two queries combined."
   ]
  },
  {
   "cell_type": "code",
   "execution_count": 12,
   "metadata": {},
   "outputs": [
    {
     "name": "stdout",
     "output_type": "stream",
     "text": [
      "Optimizing parameters\n",
      " - iteration 1 scored 0.2793 with: {'cross_fields|boost': 0.6129197135919707, 'best_fields|boost': 2.610168190452915}\n",
      " - iteration 2 scored 0.2788 with: {'cross_fields|boost': 4.776364695490323, 'best_fields|boost': 3.6856575625612606}\n",
      " - iteration 3 scored 0.2757 with: {'cross_fields|boost': 4.5870026984537695, 'best_fields|boost': 2.0865928146937893}\n",
      " - iteration 4 scored 0.2773 with: {'cross_fields|boost': 1.6498123847111787, 'best_fields|boost': 1.0466523274975912}\n",
      " - iteration 5 scored 0.2793 with: {'cross_fields|boost': 0.5719038710493053, 'best_fields|boost': 2.2271080272550945}\n",
      " - iteration 6 scored 0.2787 with: {'cross_fields|boost': 0.9195107349201493, 'best_fields|boost': 0.8325091408041309}\n",
      " - iteration 7 scored 0.2783 with: {'cross_fields|boost': 0.026289916893073587, 'best_fields|boost': 3.4594928561542746}\n",
      " - iteration 8 scored 0.2695 with: {'cross_fields|boost': 0.1729689449456834, 'best_fields|boost': 0.014511829980683457}\n",
      " - iteration 9 scored 0.2778 with: {'cross_fields|boost': 0.38519269971353237, 'best_fields|boost': 4.635399526231246}\n",
      " - iteration 10 scored 0.2795 with: {'cross_fields|boost': 1.113319532860342, 'best_fields|boost': 2.7699395863753162}\n",
      " - iteration 11 scored 0.2799 with: {'cross_fields|boost': 4.987868121274695, 'best_fields|boost': 4.995358508498139}\n",
      " - iteration 12 scored 0.2785 with: {'cross_fields|boost': 5.0, 'best_fields|boost': 4.315910132530589}\n",
      " - iteration 13 scored 0.2797 with: {'cross_fields|boost': 3.9674639391862905, 'best_fields|boost': 5.0}\n",
      " - iteration 14 scored 0.2771 with: {'cross_fields|boost': 5.0, 'best_fields|boost': 3.1354081493034562}\n",
      " - iteration 15 scored 0.2781 with: {'cross_fields|boost': 0.0010075977725393372, 'best_fields|boost': 1.6835424870284301}\n",
      " - iteration 16 scored 0.2779 with: {'cross_fields|boost': 0.0, 'best_fields|boost': 3.9856495790190856}\n",
      " - iteration 17 scored 0.2695 with: {'cross_fields|boost': 4.963121888519005, 'best_fields|boost': 0.5702025555704905}\n",
      " - iteration 18 scored 0.2792 with: {'cross_fields|boost': 2.3189293419331847, 'best_fields|boost': 5.0}\n",
      " - iteration 19 scored 0.2779 with: {'cross_fields|boost': 0.0, 'best_fields|boost': 0.9932492298584871}\n",
      " - iteration 20 scored 0.2781 with: {'cross_fields|boost': 0.06590066802075968, 'best_fields|boost': 4.974373081458544}\n",
      " - iteration 21 scored 0.2723 with: {'cross_fields|boost': 4.990820251496145, 'best_fields|boost': 1.4100131010670134}\n",
      " - iteration 22 scored 0.2804 with: {'cross_fields|boost': 2.429818299805012, 'best_fields|boost': 3.7253486087436523}\n",
      " - iteration 23 scored 0.2798 with: {'cross_fields|boost': 2.4834823209871963, 'best_fields|boost': 3.185911691354902}\n",
      " - iteration 24 scored 0.2789 with: {'cross_fields|boost': 2.338210043995309, 'best_fields|boost': 1.938899410957196}\n",
      " - iteration 25 scored 0.2693 with: {'cross_fields|boost': 2.965554948425157, 'best_fields|boost': 0.002750840780730846}\n",
      " - iteration 26 scored 0.2804 with: {'cross_fields|boost': 2.8145351163541745, 'best_fields|boost': 4.355147901815987}\n",
      " - iteration 27 scored 0.2785 with: {'cross_fields|boost': 3.1670812153431656, 'best_fields|boost': 2.687734165967724}\n",
      " - iteration 28 scored 0.2799 with: {'cross_fields|boost': 2.7264953935014793, 'best_fields|boost': 3.9543337253456894}\n",
      " - iteration 29 scored 0.2693 with: {'cross_fields|boost': 4.940282738084995, 'best_fields|boost': 0.003703554014543032}\n",
      " - iteration 30 scored 0.2797 with: {'cross_fields|boost': 2.2505055857532184, 'best_fields|boost': 3.667924859090013}\n",
      "Best score: 0.2804\n",
      "Best params: {'cross_fields|boost': 2.429818299805012, 'best_fields|boost': 3.7253486087436523}\n",
      "Final params: {'cross_fields|operator': 'OR', 'cross_fields|minimum_should_match': 40, 'cross_fields|tie_breaker': 0.25, 'cross_fields|url|boost': 1.8047232930155708, 'cross_fields|title|boost': 10.0, 'cross_fields|body|boost': 6.569708296455422, 'cross_fields|boost': 2.429818299805012, 'best_fields|tie_breaker': 0.4295450971050169, 'best_fields|url|boost': 0.0, 'best_fields|title|boost': 5.631895782981447, 'best_fields|body|boost': 7.10619804961409, 'best_fields|boost': 3.7253486087436523}\n",
      "\n",
      "CPU times: user 34.1 s, sys: 8.35 s, total: 42.5 s\n",
      "Wall time: 30min 25s\n"
     ]
    }
   ],
   "source": [
    "%%time\n",
    "\n",
    "_, _, final_params_boosts, metadata_boosts = optimize_query_mrr100(es, max_concurrent_searches, index, template_id,\n",
    "    config_space=Config.parse({\n",
    "        'num_iterations': 30,\n",
    "        'num_initial_points': 5,\n",
    "        'space': {\n",
    "            'cross_fields|boost': { 'low': 0.0, 'high': 5.0 },\n",
    "            'best_fields|boost': { 'low': 0.0, 'high': 5.0 },\n",
    "        },\n",
    "        'default': all_params,\n",
    "    }))"
   ]
  },
  {
   "cell_type": "code",
   "execution_count": 13,
   "metadata": {},
   "outputs": [
    {
     "data": {
      "image/png": "[encoded data removed]",
      "text/plain": [
       "<Figure size 288x288 with 4 Axes>"
      ]
     },
     "metadata": {
      "needs_background": "light"
     },
     "output_type": "display_data"
    }
   ],
   "source": [
    "_ = plot_objective(metadata_boosts, sample_source='result')"
   ]
  },
  {
   "cell_type": "markdown",
   "metadata": {},
   "source": [
    "This is, errr, complicated. Seems that there's not much to tune here and it's a difficult parameter space with lots of peaks and valleys."
   ]
  },
  {
   "cell_type": "code",
   "execution_count": 20,
   "metadata": {},
   "outputs": [
    {
     "name": "stdout",
     "output_type": "stream",
     "text": [
      "Score: 0.3064\n",
      "CPU times: user 1.79 s, sys: 453 ms, total: 2.25 s\n",
      "Wall time: 4min 47s\n"
     ]
    }
   ],
   "source": [
    "%%time\n",
    "\n",
    "_ = evaluate_mrr100_dev(es, max_concurrent_searches, index, template_id, params=final_params_boosts)"
   ]
  },
  {
   "cell_type": "markdown",
   "metadata": {},
   "source": [
    "Well that's actually slightly worse than the `best_fields` alone. Something is not working."
   ]
  },
  {
   "cell_type": "markdown",
   "metadata": {},
   "source": [
    "## Debugging\n",
    "\n",
    "Plot scores from each sub-query to determine why we don't really see an improvement over individual queries."
   ]
  },
  {
   "cell_type": "code",
   "execution_count": 28,
   "metadata": {},
   "outputs": [],
   "source": [
    "import matplotlib.pyplot as plt\n",
    "from itertools import chain\n",
    "\n",
    "from qopt.notebooks import ROOT_DIR\n",
    "from qopt.search import temporary_search_template, search_template\n",
    "from qopt.trec import load_queries_as_tuple_list, load_qrels"
   ]
  },
  {
   "cell_type": "code",
   "execution_count": 29,
   "metadata": {},
   "outputs": [],
   "source": [
    "def collect_scores():\n",
    "    \n",
    "    def _search(template_id, query_string, params, doc_id):\n",
    "        res = search_template(es, index, template_id, query={\n",
    "            'id': 0,\n",
    "            'params': {\n",
    "                'query_string': query_string,\n",
    "                **params,\n",
    "            },\n",
    "        })\n",
    "        return [hit['score'] for hit in res['hits'] if hit['id'] == doc_id]\n",
    "\n",
    "    queries = load_queries_as_tuple_list(os.path.join(ROOT_DIR, 'data', 'msmarco-document-sampled-queries.1000.tsv'))\n",
    "    qrels = load_qrels(os.path.join(ROOT_DIR, 'data', 'msmarco', 'document', 'msmarco-doctrain-qrels.tsv'))\n",
    "    template_file = os.path.join(ROOT_DIR, 'config', 'msmarco-document-templates.json')\n",
    "    size = 100\n",
    "    \n",
    "    cross_field_scores = []\n",
    "    best_field_scores = []\n",
    "    \n",
    "    with temporary_search_template(es, template_file, 'cross_fields', size) as cross_fields_template_id:\n",
    "        with temporary_search_template(es, template_file, 'best_fields', size) as best_fields_template_id:\n",
    "            for query in queries:\n",
    "                doc_id = list(qrels[query[0]].keys())[0]\n",
    "                \n",
    "                cfs = _search(cross_fields_template_id, query[1], cross_fields_params, doc_id)\n",
    "                bfs = _search(best_fields_template_id, query[1], best_fields_params, doc_id)\n",
    "\n",
    "                # keep just n scores to make sure the lists are the same length\n",
    "                length = min(len(cfs), len(bfs))\n",
    "                cross_field_scores.append(cfs[:length])\n",
    "                best_field_scores.append(bfs[:length])\n",
    "\n",
    "    return cross_field_scores, best_field_scores"
   ]
  },
  {
   "cell_type": "code",
   "execution_count": 30,
   "metadata": {},
   "outputs": [],
   "source": [
    "cfs, bfs = collect_scores()"
   ]
  },
  {
   "cell_type": "code",
   "execution_count": 31,
   "metadata": {},
   "outputs": [
    {
     "data": {
      "image/png": "[encoded data removed]",
      "text/plain": [
       "<Figure size 432x288 with 1 Axes>"
      ]
     },
     "metadata": {
      "needs_background": "light"
     },
     "output_type": "display_data"
    }
   ],
   "source": [
    "# plot scores\n",
    "cfs_flat = list(chain(*cfs))\n",
    "bfs_flat = list(chain(*bfs))\n",
    "\n",
    "plt.scatter(cfs_flat, bfs_flat)\n",
    "plt.show()"
   ]
  },
  {
   "cell_type": "markdown",
   "metadata": {},
   "source": [
    "It looks like combining queries really won't do much. Seems that the scores from each sub-query are already pretty aligned and we can't benefit from learning the boost values which tell us how to combine scores."
   ]
  },
  {
   "cell_type": "code",
   "execution_count": null,
   "metadata": {},
   "outputs": [],
   "source": []
  }
 ],
 "metadata": {
  "kernelspec": {
   "display_name": "Python 3",
   "language": "python",
   "name": "python3"
  },
  "language_info": {
   "codemirror_mode": {
    "name": "ipython",
    "version": 3
   },
   "file_extension": ".py",
   "mimetype": "text/x-python",
   "name": "python",
   "nbconvert_exporter": "python",
   "pygments_lexer": "ipython3",
   "version": "3.7.7"
  }
 },
 "nbformat": 4,
 "nbformat_minor": 4
}
